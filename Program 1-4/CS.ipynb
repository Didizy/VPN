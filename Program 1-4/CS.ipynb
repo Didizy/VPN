{
  "cells": [
    {
      "cell_type": "code",
      "source": [
        "!pip install nfstream"
      ],
      "metadata": {
        "id": "58lbsiawlZ9i"
      },
      "execution_count": null,
      "outputs": []
    },
    {
      "cell_type": "code",
      "execution_count": null,
      "metadata": {
        "id": "Wd2W1ztwa0ma"
      },
      "outputs": [],
      "source": [
        "\n",
        "from nfstream import NFStreamer, NFPlugin\n",
        "import pandas as pd\n",
        "from google.colab import files\n",
        "from datetime import datetime, timedelta\n",
        "import sys"
      ]
    },
    {
      "cell_type": "code",
      "execution_count": null,
      "metadata": {
        "colab": {
          "background_save": true
        },
        "id": "dyF5Y81WbEm-"
      },
      "outputs": [],
      "source": [
        "class Packet40Count(NFPlugin):\n",
        "    def on_init(self, packet, flow):\n",
        "        if packet.ip_size == 40:\n",
        "            flow.udps.packet_with_40_ip_size = 1\n",
        "        else:\n",
        "            flow.udps.packet_with_40_ip_size = 0\n",
        "\n",
        "    def on_update(self, packet, flow):\n",
        "        if packet.ip_size == 40:\n",
        "            flow.udps.packet_with_40_ip_size += 1"
      ]
    },
    {
      "cell_type": "code",
      "execution_count": null,
      "metadata": {
        "colab": {
          "background_save": true
        },
        "id": "UgQtc938byAy"
      },
      "outputs": [],
      "source": [
        "def summary_data(file_name):\n",
        "    streamer = NFStreamer(file_name, udps=Packet40Count()).to_pandas()\n",
        "    streamer.to_excel('output.xlsx')\n",
        "    if \"VPN\" in streamer['application_category_name'].unique():\n",
        "        app_bytes = streamer.groupby(['application_name', 'application_category_name'], as_index=False, sort=True)['bidirectional_bytes'].sum()\n",
        "        print(f'Protocols and data for {file_name}:\\n{app_bytes.to_string(index=False)}')\n",
        "    else:\n",
        "        print(f'No VPN traffic detected in {file_name}, only: {\",\".join([x for x in streamer[\"application_name\"].unique()])}')\n"
      ]
    },
    {
      "cell_type": "code",
      "execution_count": null,
      "metadata": {
        "colab": {
          "background_save": true
        },
        "id": "Ej8QWWB_clr0"
      },
      "outputs": [],
      "source": [
        "files.upload()"
      ]
    },
    {
      "cell_type": "code",
      "execution_count": null,
      "metadata": {
        "id": "TsL1K7kMePtJ"
      },
      "outputs": [],
      "source": [
        "# 1 подпункт\n",
        "sys.stdout = open('report.md', 'w')\n",
        "summary_data('IKEv2.2.pcapng')\n",
        "\n",
        "# 2 подпункт\n",
        "\n",
        "streamer = NFStreamer('IKEv2.2.pcapng', udps=Packet40Count()).to_pandas()\n",
        "data = streamer[['src_ip', 'dst_ip', 'bidirectional_packets', 'bidirectional_bytes',\n",
        "            'application_name', 'application_category_name']]\n",
        "print(\"\\nВся информация:\\n\")\n",
        "print(data)\n",
        "group = streamer[['src_ip', 'dst_ip', 'application_name' ]]\n",
        "print(\"\\nГруппировка по приложению:\\n\")\n",
        "print(group.groupby(['application_name', 'src_ip'], sort=True).first())\n",
        "\n",
        "# 3 подпункт\n",
        "\n",
        "time = streamer['bidirectional_first_seen_ms']\n",
        "print(\"\\nНачало захвата:\\n\")\n",
        "print(datetime.fromtimestamp(round(time[0]/1000)))\n",
        "time = streamer['bidirectional_last_seen_ms']\n",
        "print(\"\\nКонец захвата:\\n\")\n",
        "print(datetime.fromtimestamp(round(time[len(time.index)-1] / 1000)))\n",
        "\n",
        "# 4 подпункт\n",
        "print(\"\\nПолезная информация\\n\")\n",
        "print(streamer.groupby(['application_name', 'application_category_name'], as_index=False, sort=True)['bidirectional_packets'].sum())\n",
        "\n",
        "sys.stdout.close()"
      ]
    }
  ],
  "metadata": {
    "colab": {
      "collapsed_sections": [],
      "name": "CS.ipynb",
      "provenance": []
    },
    "kernelspec": {
      "display_name": "Python 3",
      "name": "python3"
    },
    "language_info": {
      "name": "python"
    }
  },
  "nbformat": 4,
  "nbformat_minor": 0
}